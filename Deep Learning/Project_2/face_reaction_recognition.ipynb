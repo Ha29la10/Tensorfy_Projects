{
  "nbformat": 4,
  "nbformat_minor": 0,
  "metadata": {
    "colab": {
      "provenance": [],
      "gpuType": "V28"
    },
    "kernelspec": {
      "name": "python3",
      "display_name": "Python 3"
    },
    "language_info": {
      "name": "python"
    },
    "accelerator": "TPU"
  },
  "cells": [
    {
      "cell_type": "code",
      "execution_count": 1,
      "metadata": {
        "id": "D60A5rmiLUIy"
      },
      "outputs": [],
      "source": [
        "import numpy as np\n",
        "import pandas as pd\n",
        "import matplotlib.pyplot as plt\n",
        "import cv2\n",
        "import os\n",
        "import seaborn as sns\n",
        "from sklearn.metrics import confusion_matrix, classification_report\n",
        "from tensorflow.keras.models import Sequential\n",
        "from tensorflow.keras.layers import Dense, Dropout, Flatten\n",
        "from tensorflow.keras.layers import Conv2D, MaxPooling2D, BatchNormalization\n",
        "from tensorflow.keras.optimizers import Adam\n",
        "from tensorflow.keras.preprocessing.image import ImageDataGenerator"
      ]
    },
    {
      "cell_type": "code",
      "source": [
        "!pip install kaggle"
      ],
      "metadata": {
        "colab": {
          "base_uri": "https://localhost:8080/"
        },
        "id": "5i-p2uC3MTNz",
        "outputId": "42c5775d-dfa7-410c-9420-b43330bb0239"
      },
      "execution_count": 2,
      "outputs": [
        {
          "output_type": "stream",
          "name": "stdout",
          "text": [
            "Requirement already satisfied: kaggle in /usr/local/lib/python3.10/dist-packages (1.6.17)\n",
            "Requirement already satisfied: six>=1.10 in /usr/local/lib/python3.10/dist-packages (from kaggle) (1.16.0)\n",
            "Requirement already satisfied: certifi>=2023.7.22 in /usr/local/lib/python3.10/dist-packages (from kaggle) (2024.8.30)\n",
            "Requirement already satisfied: python-dateutil in /usr/local/lib/python3.10/dist-packages (from kaggle) (2.9.0.post0)\n",
            "Requirement already satisfied: requests in /usr/local/lib/python3.10/dist-packages (from kaggle) (2.32.3)\n",
            "Requirement already satisfied: tqdm in /usr/local/lib/python3.10/dist-packages (from kaggle) (4.66.5)\n",
            "Requirement already satisfied: python-slugify in /usr/local/lib/python3.10/dist-packages (from kaggle) (8.0.4)\n",
            "Requirement already satisfied: urllib3 in /usr/local/lib/python3.10/dist-packages (from kaggle) (2.2.3)\n",
            "Requirement already satisfied: bleach in /usr/local/lib/python3.10/dist-packages (from kaggle) (6.1.0)\n",
            "Requirement already satisfied: webencodings in /usr/local/lib/python3.10/dist-packages (from bleach->kaggle) (0.5.1)\n",
            "Requirement already satisfied: text-unidecode>=1.3 in /usr/local/lib/python3.10/dist-packages (from python-slugify->kaggle) (1.3)\n",
            "Requirement already satisfied: charset-normalizer<4,>=2 in /usr/local/lib/python3.10/dist-packages (from requests->kaggle) (3.4.0)\n",
            "Requirement already satisfied: idna<4,>=2.5 in /usr/local/lib/python3.10/dist-packages (from requests->kaggle) (3.10)\n"
          ]
        }
      ]
    },
    {
      "cell_type": "code",
      "source": [
        "from google.colab import files\n",
        "files.upload()"
      ],
      "metadata": {
        "colab": {
          "base_uri": "https://localhost:8080/",
          "height": 92
        },
        "id": "xA6CV6KEMZNj",
        "outputId": "63c85dde-649f-4ed0-f949-bba3b4ca6af6"
      },
      "execution_count": 3,
      "outputs": [
        {
          "output_type": "display_data",
          "data": {
            "text/plain": [
              "<IPython.core.display.HTML object>"
            ],
            "text/html": [
              "\n",
              "     <input type=\"file\" id=\"files-072c548c-d8fe-44a2-8cf9-009c2cdd0abe\" name=\"files[]\" multiple disabled\n",
              "        style=\"border:none\" />\n",
              "     <output id=\"result-072c548c-d8fe-44a2-8cf9-009c2cdd0abe\">\n",
              "      Upload widget is only available when the cell has been executed in the\n",
              "      current browser session. Please rerun this cell to enable.\n",
              "      </output>\n",
              "      <script>// Copyright 2017 Google LLC\n",
              "//\n",
              "// Licensed under the Apache License, Version 2.0 (the \"License\");\n",
              "// you may not use this file except in compliance with the License.\n",
              "// You may obtain a copy of the License at\n",
              "//\n",
              "//      http://www.apache.org/licenses/LICENSE-2.0\n",
              "//\n",
              "// Unless required by applicable law or agreed to in writing, software\n",
              "// distributed under the License is distributed on an \"AS IS\" BASIS,\n",
              "// WITHOUT WARRANTIES OR CONDITIONS OF ANY KIND, either express or implied.\n",
              "// See the License for the specific language governing permissions and\n",
              "// limitations under the License.\n",
              "\n",
              "/**\n",
              " * @fileoverview Helpers for google.colab Python module.\n",
              " */\n",
              "(function(scope) {\n",
              "function span(text, styleAttributes = {}) {\n",
              "  const element = document.createElement('span');\n",
              "  element.textContent = text;\n",
              "  for (const key of Object.keys(styleAttributes)) {\n",
              "    element.style[key] = styleAttributes[key];\n",
              "  }\n",
              "  return element;\n",
              "}\n",
              "\n",
              "// Max number of bytes which will be uploaded at a time.\n",
              "const MAX_PAYLOAD_SIZE = 100 * 1024;\n",
              "\n",
              "function _uploadFiles(inputId, outputId) {\n",
              "  const steps = uploadFilesStep(inputId, outputId);\n",
              "  const outputElement = document.getElementById(outputId);\n",
              "  // Cache steps on the outputElement to make it available for the next call\n",
              "  // to uploadFilesContinue from Python.\n",
              "  outputElement.steps = steps;\n",
              "\n",
              "  return _uploadFilesContinue(outputId);\n",
              "}\n",
              "\n",
              "// This is roughly an async generator (not supported in the browser yet),\n",
              "// where there are multiple asynchronous steps and the Python side is going\n",
              "// to poll for completion of each step.\n",
              "// This uses a Promise to block the python side on completion of each step,\n",
              "// then passes the result of the previous step as the input to the next step.\n",
              "function _uploadFilesContinue(outputId) {\n",
              "  const outputElement = document.getElementById(outputId);\n",
              "  const steps = outputElement.steps;\n",
              "\n",
              "  const next = steps.next(outputElement.lastPromiseValue);\n",
              "  return Promise.resolve(next.value.promise).then((value) => {\n",
              "    // Cache the last promise value to make it available to the next\n",
              "    // step of the generator.\n",
              "    outputElement.lastPromiseValue = value;\n",
              "    return next.value.response;\n",
              "  });\n",
              "}\n",
              "\n",
              "/**\n",
              " * Generator function which is called between each async step of the upload\n",
              " * process.\n",
              " * @param {string} inputId Element ID of the input file picker element.\n",
              " * @param {string} outputId Element ID of the output display.\n",
              " * @return {!Iterable<!Object>} Iterable of next steps.\n",
              " */\n",
              "function* uploadFilesStep(inputId, outputId) {\n",
              "  const inputElement = document.getElementById(inputId);\n",
              "  inputElement.disabled = false;\n",
              "\n",
              "  const outputElement = document.getElementById(outputId);\n",
              "  outputElement.innerHTML = '';\n",
              "\n",
              "  const pickedPromise = new Promise((resolve) => {\n",
              "    inputElement.addEventListener('change', (e) => {\n",
              "      resolve(e.target.files);\n",
              "    });\n",
              "  });\n",
              "\n",
              "  const cancel = document.createElement('button');\n",
              "  inputElement.parentElement.appendChild(cancel);\n",
              "  cancel.textContent = 'Cancel upload';\n",
              "  const cancelPromise = new Promise((resolve) => {\n",
              "    cancel.onclick = () => {\n",
              "      resolve(null);\n",
              "    };\n",
              "  });\n",
              "\n",
              "  // Wait for the user to pick the files.\n",
              "  const files = yield {\n",
              "    promise: Promise.race([pickedPromise, cancelPromise]),\n",
              "    response: {\n",
              "      action: 'starting',\n",
              "    }\n",
              "  };\n",
              "\n",
              "  cancel.remove();\n",
              "\n",
              "  // Disable the input element since further picks are not allowed.\n",
              "  inputElement.disabled = true;\n",
              "\n",
              "  if (!files) {\n",
              "    return {\n",
              "      response: {\n",
              "        action: 'complete',\n",
              "      }\n",
              "    };\n",
              "  }\n",
              "\n",
              "  for (const file of files) {\n",
              "    const li = document.createElement('li');\n",
              "    li.append(span(file.name, {fontWeight: 'bold'}));\n",
              "    li.append(span(\n",
              "        `(${file.type || 'n/a'}) - ${file.size} bytes, ` +\n",
              "        `last modified: ${\n",
              "            file.lastModifiedDate ? file.lastModifiedDate.toLocaleDateString() :\n",
              "                                    'n/a'} - `));\n",
              "    const percent = span('0% done');\n",
              "    li.appendChild(percent);\n",
              "\n",
              "    outputElement.appendChild(li);\n",
              "\n",
              "    const fileDataPromise = new Promise((resolve) => {\n",
              "      const reader = new FileReader();\n",
              "      reader.onload = (e) => {\n",
              "        resolve(e.target.result);\n",
              "      };\n",
              "      reader.readAsArrayBuffer(file);\n",
              "    });\n",
              "    // Wait for the data to be ready.\n",
              "    let fileData = yield {\n",
              "      promise: fileDataPromise,\n",
              "      response: {\n",
              "        action: 'continue',\n",
              "      }\n",
              "    };\n",
              "\n",
              "    // Use a chunked sending to avoid message size limits. See b/62115660.\n",
              "    let position = 0;\n",
              "    do {\n",
              "      const length = Math.min(fileData.byteLength - position, MAX_PAYLOAD_SIZE);\n",
              "      const chunk = new Uint8Array(fileData, position, length);\n",
              "      position += length;\n",
              "\n",
              "      const base64 = btoa(String.fromCharCode.apply(null, chunk));\n",
              "      yield {\n",
              "        response: {\n",
              "          action: 'append',\n",
              "          file: file.name,\n",
              "          data: base64,\n",
              "        },\n",
              "      };\n",
              "\n",
              "      let percentDone = fileData.byteLength === 0 ?\n",
              "          100 :\n",
              "          Math.round((position / fileData.byteLength) * 100);\n",
              "      percent.textContent = `${percentDone}% done`;\n",
              "\n",
              "    } while (position < fileData.byteLength);\n",
              "  }\n",
              "\n",
              "  // All done.\n",
              "  yield {\n",
              "    response: {\n",
              "      action: 'complete',\n",
              "    }\n",
              "  };\n",
              "}\n",
              "\n",
              "scope.google = scope.google || {};\n",
              "scope.google.colab = scope.google.colab || {};\n",
              "scope.google.colab._files = {\n",
              "  _uploadFiles,\n",
              "  _uploadFilesContinue,\n",
              "};\n",
              "})(self);\n",
              "</script> "
            ]
          },
          "metadata": {}
        },
        {
          "output_type": "stream",
          "name": "stdout",
          "text": [
            "Saving kaggle (3).json to kaggle (3).json\n"
          ]
        },
        {
          "output_type": "execute_result",
          "data": {
            "text/plain": [
              "{'kaggle (3).json': b'{\"username\":\"halaragab\",\"key\":\"8ee67014a4e66ce89cebde875c53dfc1\"}'}"
            ]
          },
          "metadata": {},
          "execution_count": 3
        }
      ]
    },
    {
      "cell_type": "code",
      "source": [
        "!mkdir -p ~/.kaggle\n",
        "!cp kaggle.json ~/.kaggle/\n",
        "!chmod 600 ~/.kaggle/kaggle.json"
      ],
      "metadata": {
        "colab": {
          "base_uri": "https://localhost:8080/"
        },
        "id": "ymyhZv1EMbsP",
        "outputId": "17dc67bd-41dd-494d-9254-e2150790939b"
      },
      "execution_count": 4,
      "outputs": [
        {
          "output_type": "stream",
          "name": "stdout",
          "text": [
            "cp: cannot stat 'kaggle.json': No such file or directory\n",
            "chmod: cannot access '/root/.kaggle/kaggle.json': No such file or directory\n"
          ]
        }
      ]
    },
    {
      "cell_type": "code",
      "source": [
        "!kaggle datasets download -d jonathanoheix/face-expression-recognition-dataset"
      ],
      "metadata": {
        "colab": {
          "base_uri": "https://localhost:8080/"
        },
        "id": "hw5LUI2QMchK",
        "outputId": "5c934c99-23ce-4292-cfbc-b75716c44926"
      },
      "execution_count": 5,
      "outputs": [
        {
          "output_type": "stream",
          "name": "stdout",
          "text": [
            "Dataset URL: https://www.kaggle.com/datasets/jonathanoheix/face-expression-recognition-dataset\n",
            "License(s): unknown\n",
            "Downloading face-expression-recognition-dataset.zip to /content\n",
            " 87% 105M/121M [00:01<00:00, 98.1MB/s]\n",
            "100% 121M/121M [00:01<00:00, 114MB/s] \n"
          ]
        }
      ]
    },
    {
      "cell_type": "code",
      "source": [
        "import zipfile\n",
        "zip_ref = zipfile.ZipFile('/content/face-expression-recognition-dataset.zip', 'r')\n",
        "zip_ref.extractall('files')\n",
        "zip_ref.close()"
      ],
      "metadata": {
        "id": "whZ5hOXoMg-t"
      },
      "execution_count": 6,
      "outputs": []
    },
    {
      "cell_type": "code",
      "source": [
        "train_dir = '/content/files/images/train'\n",
        "val_dir = '/content/files/images/validation'\n",
        "\n",
        "batch_size = 128\n",
        "train_datagenerator = ImageDataGenerator()\n",
        "validation_datagenerator = ImageDataGenerator()\n",
        "\n",
        "train_set = train_datagenerator.flow_from_directory(train_dir,\n",
        "                                                   target_size=(48, 48),\n",
        "                                                   color_mode=\"grayscale\",\n",
        "                                                   class_mode=\"categorical\",\n",
        "                                                   batch_size=batch_size,\n",
        "                                                   shuffle=True)\n",
        "test_set = validation_datagenerator.flow_from_directory(val_dir,\n",
        "                                                       target_size=(48, 48),\n",
        "                                                       color_mode=\"grayscale\",\n",
        "                                                       class_mode=\"categorical\",\n",
        "                                                       batch_size=batch_size,\n",
        "                                                       shuffle=False)"
      ],
      "metadata": {
        "colab": {
          "base_uri": "https://localhost:8080/"
        },
        "id": "_whjDdi9MyYj",
        "outputId": "f796346a-0b64-460f-8668-3a09bf86d33c"
      },
      "execution_count": 7,
      "outputs": [
        {
          "output_type": "stream",
          "name": "stdout",
          "text": [
            "Found 28821 images belonging to 7 classes.\n",
            "Found 7066 images belonging to 7 classes.\n"
          ]
        }
      ]
    },
    {
      "cell_type": "code",
      "source": [
        "def count_images_in_classes(path):\n",
        "    classes = os.listdir(path)\n",
        "    for c in classes:\n",
        "        num_images = len(os.listdir(os.path.join(path, c)))\n",
        "        print(f\"Class {c}: {num_images} images\")\n",
        "\n",
        "# Count the number of images in each class for training, testing and validation sets\n",
        "print(\"Train images:\")\n",
        "count_images_in_classes(train_dir)\n",
        "\n",
        "print(\"\\nValidation images:\")\n",
        "count_images_in_classes(val_dir)"
      ],
      "metadata": {
        "colab": {
          "base_uri": "https://localhost:8080/"
        },
        "id": "fmLpoLJaNiFX",
        "outputId": "03551359-6e5e-4f74-c569-f2cdaf6d1fba"
      },
      "execution_count": 8,
      "outputs": [
        {
          "output_type": "stream",
          "name": "stdout",
          "text": [
            "Train images:\n",
            "Class sad: 4938 images\n",
            "Class neutral: 4982 images\n",
            "Class happy: 7164 images\n",
            "Class surprise: 3205 images\n",
            "Class fear: 4103 images\n",
            "Class angry: 3993 images\n",
            "Class disgust: 436 images\n",
            "\n",
            "Validation images:\n",
            "Class sad: 1139 images\n",
            "Class neutral: 1216 images\n",
            "Class happy: 1825 images\n",
            "Class surprise: 797 images\n",
            "Class fear: 1018 images\n",
            "Class angry: 960 images\n",
            "Class disgust: 111 images\n"
          ]
        }
      ]
    },
    {
      "cell_type": "code",
      "source": [
        "import tensorflow as tf\n",
        "from tensorflow.keras import regularizers,layers\n",
        "from tensorflow.keras.models import Sequential\n",
        "from tensorflow.keras.layers import Dense, Dropout, Activation, Flatten\n",
        "from tensorflow.keras.layers import Conv2D, MaxPooling2D, BatchNormalization\n",
        "from keras.optimizers import Adam,SGD,RMSprop\n",
        "\n",
        "\n",
        "classes = 7\n",
        "model = Sequential()\n",
        "\n",
        "#1st CNN layer\n",
        "model.add(Conv2D(64, (3,3), padding=\"same\", input_shape=(48,48,1)))\n",
        "model.add(BatchNormalization())\n",
        "model.add(Activation('relu'))\n",
        "model.add(MaxPooling2D(pool_size=(2,2)))\n",
        "model.add(Dropout(0.25))\n",
        "\n",
        "#2nd CNN layer\n",
        "model.add(Conv2D(128, (5,5), padding=\"same\"))\n",
        "model.add(BatchNormalization())\n",
        "model.add(Activation('relu'))\n",
        "model.add(MaxPooling2D(pool_size=(2,2)))\n",
        "model.add(Dropout(0.25))\n",
        "\n",
        "#3rd CNN layer\n",
        "model.add(Conv2D(512, (3,3), padding=\"same\"))\n",
        "model.add(BatchNormalization())\n",
        "model.add(Activation('relu'))\n",
        "model.add(MaxPooling2D(pool_size=(2,2)))\n",
        "model.add(Dropout(0.25))\n",
        "\n",
        "#4th CNN layer\n",
        "model.add(Conv2D(512, (3,3), padding=\"same\"))\n",
        "model.add(BatchNormalization())\n",
        "model.add(Activation('relu'))\n",
        "model.add(MaxPooling2D(pool_size=(2,2)))\n",
        "model.add(Dropout(0.25))\n",
        "\n",
        "model.add(Flatten())\n",
        "\n",
        "#1st connected layer\n",
        "model.add(Dense(256))\n",
        "model.add(BatchNormalization())\n",
        "model.add(Activation('relu'))\n",
        "model.add(Dropout(0.25))\n",
        "\n",
        "#2nd connected layer\n",
        "model.add(Dense(512))\n",
        "model.add(BatchNormalization())\n",
        "model.add(Activation('relu'))\n",
        "model.add(Dropout(0.25))\n",
        "\n",
        "model.add(Dense(classes, activation='softmax'))\n",
        "\n",
        "optimizer = Adam(learning_rate=0.0001)\n",
        "model.compile(optimizer=optimizer, loss='categorical_crossentropy', metrics=['accuracy'])\n"
      ],
      "metadata": {
        "id": "Mi6hCBXeNrNq"
      },
      "execution_count": 9,
      "outputs": []
    },
    {
      "cell_type": "code",
      "source": [
        "model.summary()"
      ],
      "metadata": {
        "colab": {
          "base_uri": "https://localhost:8080/"
        },
        "id": "6lXzVW-JOJZc",
        "outputId": "0803dfba-62c2-4dc6-f4bd-c0605b96dd04"
      },
      "execution_count": 10,
      "outputs": [
        {
          "output_type": "stream",
          "name": "stdout",
          "text": [
            "Model: \"sequential\"\n",
            "_________________________________________________________________\n",
            " Layer (type)                Output Shape              Param #   \n",
            "=================================================================\n",
            " conv2d (Conv2D)             (None, 48, 48, 64)        640       \n",
            "                                                                 \n",
            " batch_normalization (Batch  (None, 48, 48, 64)        256       \n",
            " Normalization)                                                  \n",
            "                                                                 \n",
            " activation (Activation)     (None, 48, 48, 64)        0         \n",
            "                                                                 \n",
            " max_pooling2d (MaxPooling2  (None, 24, 24, 64)        0         \n",
            " D)                                                              \n",
            "                                                                 \n",
            " dropout (Dropout)           (None, 24, 24, 64)        0         \n",
            "                                                                 \n",
            " conv2d_1 (Conv2D)           (None, 24, 24, 128)       204928    \n",
            "                                                                 \n",
            " batch_normalization_1 (Bat  (None, 24, 24, 128)       512       \n",
            " chNormalization)                                                \n",
            "                                                                 \n",
            " activation_1 (Activation)   (None, 24, 24, 128)       0         \n",
            "                                                                 \n",
            " max_pooling2d_1 (MaxPoolin  (None, 12, 12, 128)       0         \n",
            " g2D)                                                            \n",
            "                                                                 \n",
            " dropout_1 (Dropout)         (None, 12, 12, 128)       0         \n",
            "                                                                 \n",
            " conv2d_2 (Conv2D)           (None, 12, 12, 512)       590336    \n",
            "                                                                 \n",
            " batch_normalization_2 (Bat  (None, 12, 12, 512)       2048      \n",
            " chNormalization)                                                \n",
            "                                                                 \n",
            " activation_2 (Activation)   (None, 12, 12, 512)       0         \n",
            "                                                                 \n",
            " max_pooling2d_2 (MaxPoolin  (None, 6, 6, 512)         0         \n",
            " g2D)                                                            \n",
            "                                                                 \n",
            " dropout_2 (Dropout)         (None, 6, 6, 512)         0         \n",
            "                                                                 \n",
            " conv2d_3 (Conv2D)           (None, 6, 6, 512)         2359808   \n",
            "                                                                 \n",
            " batch_normalization_3 (Bat  (None, 6, 6, 512)         2048      \n",
            " chNormalization)                                                \n",
            "                                                                 \n",
            " activation_3 (Activation)   (None, 6, 6, 512)         0         \n",
            "                                                                 \n",
            " max_pooling2d_3 (MaxPoolin  (None, 3, 3, 512)         0         \n",
            " g2D)                                                            \n",
            "                                                                 \n",
            " dropout_3 (Dropout)         (None, 3, 3, 512)         0         \n",
            "                                                                 \n",
            " flatten (Flatten)           (None, 4608)              0         \n",
            "                                                                 \n",
            " dense (Dense)               (None, 256)               1179904   \n",
            "                                                                 \n",
            " batch_normalization_4 (Bat  (None, 256)               1024      \n",
            " chNormalization)                                                \n",
            "                                                                 \n",
            " activation_4 (Activation)   (None, 256)               0         \n",
            "                                                                 \n",
            " dropout_4 (Dropout)         (None, 256)               0         \n",
            "                                                                 \n",
            " dense_1 (Dense)             (None, 512)               131584    \n",
            "                                                                 \n",
            " batch_normalization_5 (Bat  (None, 512)               2048      \n",
            " chNormalization)                                                \n",
            "                                                                 \n",
            " activation_5 (Activation)   (None, 512)               0         \n",
            "                                                                 \n",
            " dropout_5 (Dropout)         (None, 512)               0         \n",
            "                                                                 \n",
            " dense_2 (Dense)             (None, 7)                 3591      \n",
            "                                                                 \n",
            "=================================================================\n",
            "Total params: 4478727 (17.08 MB)\n",
            "Trainable params: 4474759 (17.07 MB)\n",
            "Non-trainable params: 3968 (15.50 KB)\n",
            "_________________________________________________________________\n"
          ]
        }
      ]
    },
    {
      "cell_type": "code",
      "source": [
        "from keras.callbacks import ModelCheckpoint, EarlyStopping, ReduceLROnPlateau\n",
        "model_checkpoint = ModelCheckpoint(\"./model.h5\",\n",
        "                                   monitor=\"val_accuracy\",\n",
        "                                   verbose=1,\n",
        "                                   save_best_only=True,\n",
        "                                   mode=\"max\")\n",
        "\n",
        "early_stop = EarlyStopping(monitor=\"val_loss\",\n",
        "                           min_delta=0,\n",
        "                           patience=3,\n",
        "                           verbose=1,\n",
        "                           restore_best_weights=True)\n",
        "\n",
        "reduce_learning_rate = ReduceLROnPlateau(monitor=\"val_loss\",\n",
        "                                         factor=0.2,\n",
        "                                         patience=3,\n",
        "                                         verbose=1,\n",
        "                                         min_delta=0.0001)\n",
        "\n",
        "callbacks_list = [early_stop, model_checkpoint, reduce_learning_rate]\n",
        "epochs = 48"
      ],
      "metadata": {
        "id": "Hc5JZ5feOfDr"
      },
      "execution_count": 11,
      "outputs": []
    },
    {
      "cell_type": "code",
      "source": [
        "history = model.fit(train_set,\n",
        "                    epochs=epochs,\n",
        "                    callbacks=callbacks_list,\n",
        "                    validation_data=test_set,\n",
        "                    steps_per_epoch=train_set.n//train_set.batch_size,\n",
        "                    validation_steps=test_set.n//test_set.batch_size)\n",
        "\n",
        "model.save(\"./emotion_detection_model.h5\")"
      ],
      "metadata": {
        "colab": {
          "base_uri": "https://localhost:8080/"
        },
        "id": "4Na8X953q_4i",
        "outputId": "a6792622-5237-4276-b521-48ddc7955b2b"
      },
      "execution_count": 12,
      "outputs": [
        {
          "output_type": "stream",
          "name": "stdout",
          "text": [
            "Epoch 1/48\n",
            "225/225 [==============================] - ETA: 0s - loss: 2.0305 - accuracy: 0.2312\n",
            "Epoch 1: val_accuracy improved from -inf to 0.31392, saving model to ./model.h5\n",
            "225/225 [==============================] - 113s 490ms/step - loss: 2.0305 - accuracy: 0.2312 - val_loss: 1.7365 - val_accuracy: 0.3139 - lr: 1.0000e-04\n",
            "Epoch 2/48\n"
          ]
        },
        {
          "output_type": "stream",
          "name": "stderr",
          "text": [
            "/usr/local/lib/python3.10/dist-packages/keras/src/engine/training.py:3103: UserWarning: You are saving your model as an HDF5 file via `model.save()`. This file format is considered legacy. We recommend using instead the native Keras format, e.g. `model.save('my_model.keras')`.\n",
            "  saving_api.save_model(\n"
          ]
        },
        {
          "output_type": "stream",
          "name": "stdout",
          "text": [
            "225/225 [==============================] - ETA: 0s - loss: 1.8189 - accuracy: 0.2980\n",
            "Epoch 2: val_accuracy improved from 0.31392 to 0.33849, saving model to ./model.h5\n",
            "225/225 [==============================] - 110s 487ms/step - loss: 1.8189 - accuracy: 0.2980 - val_loss: 1.6752 - val_accuracy: 0.3385 - lr: 1.0000e-04\n",
            "Epoch 3/48\n",
            "225/225 [==============================] - ETA: 0s - loss: 1.7115 - accuracy: 0.3436\n",
            "Epoch 3: val_accuracy improved from 0.33849 to 0.36349, saving model to ./model.h5\n",
            "225/225 [==============================] - 107s 476ms/step - loss: 1.7115 - accuracy: 0.3436 - val_loss: 1.6682 - val_accuracy: 0.3635 - lr: 1.0000e-04\n",
            "Epoch 4/48\n",
            "225/225 [==============================] - ETA: 0s - loss: 1.6322 - accuracy: 0.3757\n",
            "Epoch 4: val_accuracy improved from 0.36349 to 0.39560, saving model to ./model.h5\n",
            "225/225 [==============================] - 107s 475ms/step - loss: 1.6322 - accuracy: 0.3757 - val_loss: 1.6098 - val_accuracy: 0.3956 - lr: 1.0000e-04\n",
            "Epoch 5/48\n",
            "225/225 [==============================] - ETA: 0s - loss: 1.5656 - accuracy: 0.4006\n",
            "Epoch 5: val_accuracy did not improve from 0.39560\n",
            "225/225 [==============================] - 107s 476ms/step - loss: 1.5656 - accuracy: 0.4006 - val_loss: 1.6139 - val_accuracy: 0.3898 - lr: 1.0000e-04\n",
            "Epoch 6/48\n",
            "225/225 [==============================] - ETA: 0s - loss: 1.5070 - accuracy: 0.4216\n",
            "Epoch 6: val_accuracy improved from 0.39560 to 0.41207, saving model to ./model.h5\n",
            "225/225 [==============================] - 107s 476ms/step - loss: 1.5070 - accuracy: 0.4216 - val_loss: 1.5993 - val_accuracy: 0.4121 - lr: 1.0000e-04\n",
            "Epoch 7/48\n",
            "225/225 [==============================] - ETA: 0s - loss: 1.4642 - accuracy: 0.4389\n",
            "Epoch 7: val_accuracy improved from 0.41207 to 0.44787, saving model to ./model.h5\n",
            "225/225 [==============================] - 107s 474ms/step - loss: 1.4642 - accuracy: 0.4389 - val_loss: 1.4537 - val_accuracy: 0.4479 - lr: 1.0000e-04\n",
            "Epoch 8/48\n",
            "225/225 [==============================] - ETA: 0s - loss: 1.4197 - accuracy: 0.4589\n",
            "Epoch 8: val_accuracy improved from 0.44787 to 0.45767, saving model to ./model.h5\n",
            "225/225 [==============================] - 107s 476ms/step - loss: 1.4197 - accuracy: 0.4589 - val_loss: 1.4491 - val_accuracy: 0.4577 - lr: 1.0000e-04\n",
            "Epoch 9/48\n",
            "225/225 [==============================] - ETA: 0s - loss: 1.3796 - accuracy: 0.4687\n",
            "Epoch 9: val_accuracy improved from 0.45767 to 0.47386, saving model to ./model.h5\n",
            "225/225 [==============================] - 107s 476ms/step - loss: 1.3796 - accuracy: 0.4687 - val_loss: 1.4064 - val_accuracy: 0.4739 - lr: 1.0000e-04\n",
            "Epoch 10/48\n",
            "225/225 [==============================] - ETA: 0s - loss: 1.3394 - accuracy: 0.4855\n",
            "Epoch 10: val_accuracy improved from 0.47386 to 0.51335, saving model to ./model.h5\n",
            "225/225 [==============================] - 108s 478ms/step - loss: 1.3394 - accuracy: 0.4855 - val_loss: 1.2701 - val_accuracy: 0.5134 - lr: 1.0000e-04\n",
            "Epoch 11/48\n",
            "225/225 [==============================] - ETA: 0s - loss: 1.3100 - accuracy: 0.4976\n",
            "Epoch 11: val_accuracy improved from 0.51335 to 0.53125, saving model to ./model.h5\n",
            "225/225 [==============================] - 106s 471ms/step - loss: 1.3100 - accuracy: 0.4976 - val_loss: 1.2415 - val_accuracy: 0.5312 - lr: 1.0000e-04\n",
            "Epoch 12/48\n",
            "225/225 [==============================] - ETA: 0s - loss: 1.2789 - accuracy: 0.5080\n",
            "Epoch 12: val_accuracy improved from 0.53125 to 0.53153, saving model to ./model.h5\n",
            "225/225 [==============================] - 105s 468ms/step - loss: 1.2789 - accuracy: 0.5080 - val_loss: 1.2367 - val_accuracy: 0.5315 - lr: 1.0000e-04\n",
            "Epoch 13/48\n",
            "225/225 [==============================] - ETA: 0s - loss: 1.2606 - accuracy: 0.5158\n",
            "Epoch 13: val_accuracy improved from 0.53153 to 0.54006, saving model to ./model.h5\n",
            "225/225 [==============================] - 106s 473ms/step - loss: 1.2606 - accuracy: 0.5158 - val_loss: 1.2361 - val_accuracy: 0.5401 - lr: 1.0000e-04\n",
            "Epoch 14/48\n",
            "225/225 [==============================] - ETA: 0s - loss: 1.2368 - accuracy: 0.5271\n",
            "Epoch 14: val_accuracy did not improve from 0.54006\n",
            "225/225 [==============================] - 106s 472ms/step - loss: 1.2368 - accuracy: 0.5271 - val_loss: 1.2306 - val_accuracy: 0.5268 - lr: 1.0000e-04\n",
            "Epoch 15/48\n",
            "225/225 [==============================] - ETA: 0s - loss: 1.2109 - accuracy: 0.5378\n",
            "Epoch 15: val_accuracy improved from 0.54006 to 0.55795, saving model to ./model.h5\n",
            "225/225 [==============================] - 106s 472ms/step - loss: 1.2109 - accuracy: 0.5378 - val_loss: 1.1725 - val_accuracy: 0.5580 - lr: 1.0000e-04\n",
            "Epoch 16/48\n",
            "225/225 [==============================] - ETA: 0s - loss: 1.1912 - accuracy: 0.5459\n",
            "Epoch 16: val_accuracy improved from 0.55795 to 0.56861, saving model to ./model.h5\n",
            "225/225 [==============================] - 106s 470ms/step - loss: 1.1912 - accuracy: 0.5459 - val_loss: 1.1709 - val_accuracy: 0.5686 - lr: 1.0000e-04\n",
            "Epoch 17/48\n",
            "225/225 [==============================] - ETA: 0s - loss: 1.1699 - accuracy: 0.5578\n",
            "Epoch 17: val_accuracy did not improve from 0.56861\n",
            "225/225 [==============================] - 105s 469ms/step - loss: 1.1699 - accuracy: 0.5578 - val_loss: 1.1534 - val_accuracy: 0.5678 - lr: 1.0000e-04\n",
            "Epoch 18/48\n",
            "225/225 [==============================] - ETA: 0s - loss: 1.1503 - accuracy: 0.5595\n",
            "Epoch 18: val_accuracy improved from 0.56861 to 0.58182, saving model to ./model.h5\n",
            "225/225 [==============================] - 106s 470ms/step - loss: 1.1503 - accuracy: 0.5595 - val_loss: 1.1250 - val_accuracy: 0.5818 - lr: 1.0000e-04\n",
            "Epoch 19/48\n",
            "225/225 [==============================] - ETA: 0s - loss: 1.1312 - accuracy: 0.5682\n",
            "Epoch 19: val_accuracy did not improve from 0.58182\n",
            "225/225 [==============================] - 106s 472ms/step - loss: 1.1312 - accuracy: 0.5682 - val_loss: 1.1383 - val_accuracy: 0.5682 - lr: 1.0000e-04\n",
            "Epoch 20/48\n",
            "225/225 [==============================] - ETA: 0s - loss: 1.1159 - accuracy: 0.5771\n",
            "Epoch 20: val_accuracy did not improve from 0.58182\n",
            "225/225 [==============================] - 106s 471ms/step - loss: 1.1159 - accuracy: 0.5771 - val_loss: 1.1362 - val_accuracy: 0.5736 - lr: 1.0000e-04\n",
            "Epoch 21/48\n",
            "225/225 [==============================] - ETA: 0s - loss: 1.1046 - accuracy: 0.5803\n",
            "Epoch 21: val_accuracy improved from 0.58182 to 0.58736, saving model to ./model.h5\n",
            "225/225 [==============================] - 106s 473ms/step - loss: 1.1046 - accuracy: 0.5803 - val_loss: 1.1029 - val_accuracy: 0.5874 - lr: 1.0000e-04\n",
            "Epoch 22/48\n",
            "225/225 [==============================] - ETA: 0s - loss: 1.0826 - accuracy: 0.5892\n",
            "Epoch 22: val_accuracy improved from 0.58736 to 0.59588, saving model to ./model.h5\n",
            "225/225 [==============================] - 106s 471ms/step - loss: 1.0826 - accuracy: 0.5892 - val_loss: 1.0754 - val_accuracy: 0.5959 - lr: 1.0000e-04\n",
            "Epoch 23/48\n",
            "225/225 [==============================] - ETA: 0s - loss: 1.0644 - accuracy: 0.5961\n",
            "Epoch 23: val_accuracy did not improve from 0.59588\n",
            "225/225 [==============================] - 106s 471ms/step - loss: 1.0644 - accuracy: 0.5961 - val_loss: 1.1070 - val_accuracy: 0.5882 - lr: 1.0000e-04\n",
            "Epoch 24/48\n",
            "225/225 [==============================] - ETA: 0s - loss: 1.0486 - accuracy: 0.6035\n",
            "Epoch 24: val_accuracy did not improve from 0.59588\n",
            "225/225 [==============================] - 106s 470ms/step - loss: 1.0486 - accuracy: 0.6035 - val_loss: 1.0847 - val_accuracy: 0.5943 - lr: 1.0000e-04\n",
            "Epoch 25/48\n",
            "225/225 [==============================] - ETA: 0s - loss: 1.0357 - accuracy: 0.6051\n",
            "Epoch 25: val_accuracy improved from 0.59588 to 0.60369, saving model to ./model.h5\n",
            "225/225 [==============================] - 106s 471ms/step - loss: 1.0357 - accuracy: 0.6051 - val_loss: 1.0694 - val_accuracy: 0.6037 - lr: 1.0000e-04\n",
            "Epoch 26/48\n",
            "225/225 [==============================] - ETA: 0s - loss: 1.0115 - accuracy: 0.6191\n",
            "Epoch 26: val_accuracy did not improve from 0.60369\n",
            "225/225 [==============================] - 106s 470ms/step - loss: 1.0115 - accuracy: 0.6191 - val_loss: 1.0885 - val_accuracy: 0.6011 - lr: 1.0000e-04\n",
            "Epoch 27/48\n",
            "225/225 [==============================] - ETA: 0s - loss: 1.0001 - accuracy: 0.6211\n",
            "Epoch 27: val_accuracy improved from 0.60369 to 0.60810, saving model to ./model.h5\n",
            "225/225 [==============================] - 106s 470ms/step - loss: 1.0001 - accuracy: 0.6211 - val_loss: 1.0574 - val_accuracy: 0.6081 - lr: 1.0000e-04\n",
            "Epoch 28/48\n",
            "225/225 [==============================] - ETA: 0s - loss: 0.9795 - accuracy: 0.6291\n",
            "Epoch 28: val_accuracy did not improve from 0.60810\n",
            "225/225 [==============================] - 105s 469ms/step - loss: 0.9795 - accuracy: 0.6291 - val_loss: 1.0479 - val_accuracy: 0.6074 - lr: 1.0000e-04\n",
            "Epoch 29/48\n",
            "225/225 [==============================] - ETA: 0s - loss: 0.9642 - accuracy: 0.6380\n",
            "Epoch 29: val_accuracy did not improve from 0.60810\n",
            "225/225 [==============================] - 105s 468ms/step - loss: 0.9642 - accuracy: 0.6380 - val_loss: 1.0705 - val_accuracy: 0.5997 - lr: 1.0000e-04\n",
            "Epoch 30/48\n",
            "225/225 [==============================] - ETA: 0s - loss: 0.9490 - accuracy: 0.6416\n",
            "Epoch 30: val_accuracy improved from 0.60810 to 0.61619, saving model to ./model.h5\n",
            "225/225 [==============================] - 106s 469ms/step - loss: 0.9490 - accuracy: 0.6416 - val_loss: 1.0542 - val_accuracy: 0.6162 - lr: 1.0000e-04\n",
            "Epoch 31/48\n",
            "225/225 [==============================] - ETA: 0s - loss: 0.9346 - accuracy: 0.6452Restoring model weights from the end of the best epoch: 28.\n",
            "\n",
            "Epoch 31: val_accuracy improved from 0.61619 to 0.61747, saving model to ./model.h5\n",
            "\n",
            "Epoch 31: ReduceLROnPlateau reducing learning rate to 1.9999999494757503e-05.\n",
            "225/225 [==============================] - 106s 469ms/step - loss: 0.9346 - accuracy: 0.6452 - val_loss: 1.0623 - val_accuracy: 0.6175 - lr: 1.0000e-04\n",
            "Epoch 31: early stopping\n"
          ]
        }
      ]
    },
    {
      "cell_type": "code",
      "source": [
        "\n",
        "plt.figure(figsize=(12, 4))\n",
        "\n",
        "# Plot training & validation accuracy values\n",
        "plt.subplot(1, 2, 1)\n",
        "plt.plot(history.history['accuracy'])\n",
        "plt.plot(history.history['val_accuracy'])\n",
        "plt.title('Model accuracy')\n",
        "plt.ylabel('Accuracy')\n",
        "plt.xlabel('Epoch')\n",
        "plt.legend(['Train', 'Validation'], loc='upper left')\n",
        "\n",
        "# Plot training & validation loss values\n",
        "plt.subplot(1, 2, 2)\n",
        "plt.plot(history.history['loss'])\n",
        "plt.plot(history.history['val_loss'])\n",
        "plt.title('Model loss')\n",
        "plt.ylabel('Loss')\n",
        "plt.xlabel('Epoch')\n",
        "plt.legend(['Train', 'Validation'], loc='upper left')\n",
        "\n",
        "plt.tight_layout()\n",
        "plt.show()"
      ],
      "metadata": {
        "colab": {
          "base_uri": "https://localhost:8080/",
          "height": 297
        },
        "id": "fxx4xWwJndXU",
        "outputId": "48dc178d-f973-4fec-ac8f-67a8596fc0b4"
      },
      "execution_count": 13,
      "outputs": [
        {
          "output_type": "display_data",
          "data": {
            "text/plain": [
              "<Figure size 1200x400 with 2 Axes>"
            ],
            "image/png": "[encoded data removed]"
          },
          "metadata": {}
        }
      ]
    }
  ]
}